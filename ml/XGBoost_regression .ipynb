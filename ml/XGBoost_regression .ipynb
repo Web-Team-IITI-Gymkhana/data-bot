{
  "cells": [
    {
      "cell_type": "markdown",
      "metadata": {},
      "source": [
        "**Import all the required libraries**"
      ]
    },
    {
      "cell_type": "code",
      "execution_count": null,
      "metadata": {
        "id": "Qqx9EBBOAckK"
      },
      "outputs": [],
      "source": [
        "import numpy as np \n",
        "import pandas as pd \n",
        "\n",
        "from sklearn.model_selection import train_test_split\n",
        "from xgboost import XGBClassifier"
      ]
    },
    {
      "cell_type": "markdown",
      "metadata": {},
      "source": [
        "**The data consists of certain data points such as GrossMargin,WorkingCapitalRatio,EarningPerShare for all the companies. Using these data points, we calculate a variety ratios using mathematical formulae based on the data points. Finally, we have labels (with value 0 or 1) corresponding to these ratios depending on their actual value in comparison to an ideal value it should have.**"
      ]
    },
    {
      "cell_type": "markdown",
      "metadata": {},
      "source": [
        "**Import the data, and create a column 'aggregate' which stores the mean of all the label columns**"
      ]
    },
    {
      "cell_type": "code",
      "execution_count": null,
      "metadata": {
        "id": "cAEfkLZOAckO"
      },
      "outputs": [],
      "source": [
        "data = pd.read_csv(\"labels_good.csv\")\n",
        "data = data.set_index('rider_provider')\n",
        "data[['wce_label','eps_label','de_label','pe_label','roe_label','growth_rate_label','profitm_label','grossm_label','ro40_label','churnrate_label','EVbyEbidta_label','marketCap_label','magicNum_label']] = data[['wce_label','eps_label','de_label','pe_label','roe_label','growth_rate_label','profitm_label','grossm_label','ro40_label','churnrate_label','EVbyEbidta_label','marketCap_label','magicNum_label']].fillna(0)\n",
        "data['aggregate'] = data[['wce_label','eps_label','de_label','pe_label','roe_label','growth_rate_label','profitm_label','grossm_label','ro40_label','churnrate_label','EVbyEbidta_label','marketCap_label','magicNum_label']].mean(axis = 1, skipna = True)"
      ]
    },
    {
      "cell_type": "markdown",
      "metadata": {},
      "source": [
        "**We assign average value of the column to all the missing data points**"
      ]
    },
    {
      "cell_type": "code",
      "execution_count": null,
      "metadata": {
        "id": "WfxHuFvUAckO"
      },
      "outputs": [],
      "source": [
        "avg_values = data.mean(axis = 0, skipna = True).fillna(0).to_dict()\n",
        "for key in data.keys():\n",
        "  data[key] = data[key].fillna(avg_values[key])"
      ]
    },
    {
      "cell_type": "markdown",
      "metadata": {},
      "source": [
        "***For training our model, the input features are the data points and calculated ratios, while the output feature is the 'aggregate' column which is the sum of all the label columns***"
      ]
    },
    {
      "cell_type": "code",
      "execution_count": null,
      "metadata": {
        "id": "GGN6pJmPAckP"
      },
      "outputs": [],
      "source": [
        "# labels['aggregate'] = labels['aggregate'].astype(int)\n",
        "X = data[['GrossProfit','GrossMargin','WorkingCapitalRatio','EarningPerShare','DebtToEquityRatio','PEratio','ReturnOfEquity','EBIDTAratio','EvRatio','EVbyEbidta','ChurnRate','GrowthRate','ProfitMargin','RuleOf40','MarketCap','MagicNumber']]\n",
        "y = data['aggregate']\n"
      ]
    },
    {
      "cell_type": "markdown",
      "metadata": {},
      "source": [
        "***Split the dataset into train and test***"
      ]
    },
    {
      "cell_type": "code",
      "execution_count": null,
      "metadata": {
        "id": "XyadMUDvAckQ"
      },
      "outputs": [],
      "source": [
        "X_train, X_test, y_train, y_test = train_test_split(X, y, test_size=0.3, random_state=0)"
      ]
    },
    {
      "cell_type": "code",
      "execution_count": null,
      "metadata": {
        "colab": {
          "base_uri": "https://localhost:8080/"
        },
        "id": "G-vkXeZ68838",
        "outputId": "8c8f06d1-1bd5-4109-b023-70373be2f963"
      },
      "outputs": [
        {
          "data": {
            "text/plain": [
              "((184, 16), (80, 16), (184,), (80,))"
            ]
          },
          "execution_count": 103,
          "metadata": {},
          "output_type": "execute_result"
        }
      ],
      "source": [
        "X_train.shape , X_test.shape , y_train.shape , y_test.shape"
      ]
    },
    {
      "cell_type": "markdown",
      "metadata": {},
      "source": [
        "**We perform regression on the 'aggregate' value**"
      ]
    },
    {
      "cell_type": "code",
      "execution_count": null,
      "metadata": {
        "colab": {
          "base_uri": "https://localhost:8080/"
        },
        "id": "_sPY6hMfBl0j",
        "outputId": "09e554a9-4f66-42af-a7d5-d1db913f8b1a"
      },
      "outputs": [
        {
          "name": "stdout",
          "output_type": "stream",
          "text": [
            "[17:34:19] WARNING: /workspace/src/objective/regression_obj.cu:152: reg:linear is now deprecated in favor of reg:squarederror.\n"
          ]
        }
      ],
      "source": [
        "from xgboost import XGBRegressor\n",
        "\n",
        "xgb_regressor = XGBRegressor(n_estimators=1000, max_depth=7, eta=0.1, subsample=0.7, colsample_bytree=0.8)\n",
        "\n",
        "xgb_regressor.fit(X_train,y_train)\n",
        "xgb_test_preds = xgb_regressor.predict(X_test)"
      ]
    },
    {
      "cell_type": "code",
      "execution_count": null,
      "metadata": {
        "colab": {
          "base_uri": "https://localhost:8080/"
        },
        "id": "PEIYXcLE9FDw",
        "outputId": "5a6ed595-ffff-46b0-cc43-5a454476b1bb"
      },
      "outputs": [
        {
          "name": "stdout",
          "output_type": "stream",
          "text": [
            "0.0014617381348269367\n"
          ]
        }
      ],
      "source": [
        "from sklearn.metrics import mean_squared_error\n",
        "error = mean_squared_error(y_test, xgb_test_preds)\n",
        "print(error)"
      ]
    },
    {
      "cell_type": "markdown",
      "metadata": {},
      "source": [
        "**Based on the output of the regression model, we generate labels 0,1,2 using some threshold values**"
      ]
    },
    {
      "cell_type": "code",
      "execution_count": null,
      "metadata": {
        "id": "lDj0gqSL5IFA"
      },
      "outputs": [],
      "source": [
        "def findLabel(x):\n",
        "  if x>=0 and x<=0.1:\n",
        "    return 0\n",
        "  elif x>0.1 and x<=0.2:\n",
        "    return 1\n",
        "  else:\n",
        "    return 2"
      ]
    },
    {
      "cell_type": "code",
      "execution_count": null,
      "metadata": {
        "id": "YJqER7td6wq_"
      },
      "outputs": [],
      "source": [
        "test_labels = list()\n",
        "pred_labels = list()"
      ]
    },
    {
      "cell_type": "code",
      "execution_count": null,
      "metadata": {
        "colab": {
          "base_uri": "https://localhost:8080/"
        },
        "id": "REJXvhznSJbg",
        "outputId": "a38999a3-e62f-41ad-fa94-5caf4aa1ee22"
      },
      "outputs": [
        {
          "name": "stdout",
          "output_type": "stream",
          "text": [
            "80\n"
          ]
        }
      ],
      "source": [
        "count = 0\n",
        "for ind in range(len(list(y_test.to_dict().values()))):\n",
        "  test_score = y_test[ind]\n",
        "  pred_score = xgb_test_preds[ind]\n",
        "  test_labels.append(findLabel(test_score))\n",
        "  pred_labels.append(findLabel(pred_score))\n",
        "  count+=1\n",
        "print(count)"
      ]
    },
    {
      "cell_type": "code",
      "execution_count": null,
      "metadata": {
        "colab": {
          "base_uri": "https://localhost:8080/"
        },
        "id": "DXefRL7N7YJ8",
        "outputId": "21d5764f-f334-4f8b-fac7-1022cf0d4f98"
      },
      "outputs": [
        {
          "name": "stdout",
          "output_type": "stream",
          "text": [
            "[1, 0, 0, 0, 0, 0, 0, 0, 0, 0, 0, 0, 0, 2, 2, 1, 0, 0, 2, 0, 0, 0, 0, 0, 0, 1, 1, 0, 2, 0, 0, 1, 0, 0, 1, 0, 1, 2, 1, 0, 1, 1, 0, 0, 0, 1, 0, 2, 0, 2, 2, 0, 0, 2, 0, 0, 2, 0, 0, 1, 0, 1, 2, 0, 0, 2, 1, 0, 2, 0, 1, 0, 0, 1, 2, 0, 0, 0, 0, 2]\n"
          ]
        }
      ],
      "source": [
        "print(test_labels)"
      ]
    },
    {
      "cell_type": "code",
      "execution_count": null,
      "metadata": {
        "colab": {
          "base_uri": "https://localhost:8080/"
        },
        "id": "dHN4IgCQ7dEo",
        "outputId": "374c2cfc-9abb-4053-82d7-e3459a6a9554"
      },
      "outputs": [
        {
          "name": "stdout",
          "output_type": "stream",
          "text": [
            "[1, 0, 0, 0, 0, 0, 0, 0, 0, 0, 0, 0, 0, 2, 2, 1, 0, 0, 2, 0, 0, 0, 0, 0, 0, 1, 1, 0, 2, 0, 0, 1, 0, 0, 1, 0, 1, 2, 1, 0, 1, 1, 0, 0, 0, 1, 0, 2, 0, 1, 2, 0, 0, 2, 0, 0, 1, 0, 0, 2, 0, 1, 1, 0, 0, 2, 1, 0, 2, 0, 1, 0, 0, 1, 2, 0, 0, 0, 0, 2]\n"
          ]
        }
      ],
      "source": [
        "print(pred_labels)"
      ]
    },
    {
      "cell_type": "code",
      "execution_count": null,
      "metadata": {
        "colab": {
          "base_uri": "https://localhost:8080/"
        },
        "id": "va5xT6l765Su",
        "outputId": "e9b7522a-247e-4a26-d63d-84ef2a07f7eb"
      },
      "outputs": [
        {
          "name": "stdout",
          "output_type": "stream",
          "text": [
            "80 80\n"
          ]
        }
      ],
      "source": [
        "print(len(test_labels),len(pred_labels))"
      ]
    },
    {
      "cell_type": "markdown",
      "metadata": {},
      "source": [
        "**We calculate the final labels using the regression outputs and the threshold value**"
      ]
    },
    {
      "cell_type": "code",
      "execution_count": null,
      "metadata": {
        "colab": {
          "base_uri": "https://localhost:8080/"
        },
        "id": "_wpoj2tO5dns",
        "outputId": "23f34c70-d058-429d-dddb-4f65058b969a"
      },
      "outputs": [
        {
          "name": "stdout",
          "output_type": "stream",
          "text": [
            "accuracy: 0.95\n",
            "precision_score: [1.         0.83333333 0.92307692]\n",
            "recall_score: [1.     0.9375 0.8   ]\n",
            "f1_score: [1.         0.88235294 0.85714286]\n"
          ]
        }
      ],
      "source": [
        "from sklearn.metrics import accuracy_score , precision_score, recall_score, f1_score \n",
        "\n",
        "accuracy = accuracy_score(test_labels,pred_labels)\n",
        "precision = precision_score(test_labels,pred_labels,average=None)\n",
        "recall = recall_score(test_labels,pred_labels,average=None)\n",
        "f1 = f1_score(test_labels,pred_labels,average=None)\n",
        "\n",
        "\n",
        "print(f\"accuracy: {accuracy}\")\n",
        "print(f\"precision_score: {precision}\")\n",
        "print(f\"recall_score: {recall}\")\n",
        "print(f\"f1_score: {f1}\")"
      ]
    }
  ],
  "metadata": {
    "colab": {
      "collapsed_sections": [],
      "name": "XGBoost_regression.ipynb",
      "provenance": []
    },
    "interpreter": {
      "hash": "a8b80aeaef2160cbb1b899bde66d93535240dd26f47c6baa9fb5e6b6d52c41cb"
    },
    "kernelspec": {
      "display_name": "Python 3.9.7 ('tf-keras-gpu-test')",
      "language": "python",
      "name": "python3"
    },
    "language_info": {
      "codemirror_mode": {
        "name": "ipython",
        "version": 3
      },
      "file_extension": ".py",
      "mimetype": "text/x-python",
      "name": "python",
      "nbconvert_exporter": "python",
      "pygments_lexer": "ipython3",
      "version": "3.7.9"
    },
    "orig_nbformat": 4
  },
  "nbformat": 4,
  "nbformat_minor": 0
}
